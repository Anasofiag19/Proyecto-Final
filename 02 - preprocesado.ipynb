{
 "cells": [
  {
   "cell_type": "markdown",
   "id": "167444ff",
   "metadata": {},
   "source": [
    "## Preprocesado y limpieza de datos\n",
    "\n",
    "**Objetivo:** Preparar el dataset para modelado, manejando datos faltantes, duplicados y transformaciones."
   ]
  },
  {
   "cell_type": "code",
   "execution_count": 1,
   "id": "b6ecd14c",
   "metadata": {},
   "outputs": [],
   "source": [
    "import pandas as pd\n",
    "df = pd.read_csv('dataset.csv')"
   ]
  },
  {
   "cell_type": "code",
   "execution_count": 2,
   "id": "c0c5f8ba",
   "metadata": {},
   "outputs": [],
   "source": [
    "import numpy as np\n",
    "np.random.seed(42)\n",
    "# Simular 5% de datos faltantes en 'MonthlyCharges'\n",
    "mask = np.random.rand(len(df)) < 0.05\n",
    "df.loc[mask, 'MonthlyCharges'] = np.nan"
   ]
  },
  {
   "cell_type": "code",
   "execution_count": 3,
   "id": "d6118e01",
   "metadata": {},
   "outputs": [],
   "source": [
    "# Imputar numéricas\n",
    "df['MonthlyCharges'].fillna(df['MonthlyCharges'].median(), inplace=True)\n",
    "# Imputar categóricas\n",
    "df['Contract'].fillna(df['Contract'].mode()[0], inplace=True)"
   ]
  },
  {
   "cell_type": "code",
   "execution_count": 4,
   "id": "7047bc5e",
   "metadata": {},
   "outputs": [
    {
     "name": "stdout",
     "output_type": "stream",
     "text": [
      "Instancias tras eliminar duplicados: 7043\n"
     ]
    }
   ],
   "source": [
    "df.drop_duplicates(inplace=True)\n",
    "print(f\"Instancias tras eliminar duplicados: {len(df)}\")"
   ]
  },
  {
   "cell_type": "code",
   "execution_count": 5,
   "id": "fab1d78f",
   "metadata": {},
   "outputs": [],
   "source": [
    "from sklearn.preprocessing import LabelEncoder\n",
    "le = LabelEncoder()\n",
    "df['Churn'] = le.fit_transform(df['Churn'])\n",
    "df = pd.get_dummies(df, columns=['Contract', 'PaymentMethod'], drop_first=True)"
   ]
  },
  {
   "cell_type": "code",
   "execution_count": 6,
   "id": "0bcae062",
   "metadata": {},
   "outputs": [],
   "source": [
    "from sklearn.preprocessing import StandardScaler\n",
    "scaler = StandardScaler()\n",
    "df[['MonthlyCharges', 'tenure']] = scaler.fit_transform(df[['MonthlyCharges', 'tenure']])"
   ]
  },
  {
   "cell_type": "code",
   "execution_count": 8,
   "id": "d31402a5",
   "metadata": {},
   "outputs": [],
   "source": [
    "import pandas as pd\n",
    "from sklearn.preprocessing import LabelEncoder, StandardScaler\n",
    "\n",
    "# Cargar dataset original\n",
    "df = pd.read_csv('dataset.csv')\n",
    "\n",
    "# Eliminar customerID\n",
    "df = df.drop('customerID', axis=1)\n",
    "\n",
    "# Convertir TotalCharges a numérico\n",
    "df['TotalCharges'] = pd.to_numeric(df['TotalCharges'], errors='coerce')\n",
    "df['TotalCharges'].fillna(df['TotalCharges'].median(), inplace=True)\n",
    "\n",
    "# Codificar variable objetivo (Churn)\n",
    "le = LabelEncoder()\n",
    "df['Churn'] = le.fit_transform(df['Churn'])\n",
    "\n",
    "# Codificar variables categóricas (one-hot encoding)\n",
    "categorical_cols = df.select_dtypes(include=['object']).columns\n",
    "df = pd.get_dummies(df, columns=categorical_cols, drop_first=True)\n",
    "\n",
    "# Estandarizar variables numéricas\n",
    "numeric_cols = ['tenure', 'MonthlyCharges', 'TotalCharges']\n",
    "scaler = StandardScaler()\n",
    "df[numeric_cols] = scaler.fit_transform(df[numeric_cols])\n",
    "\n",
    "# Guardar dataset preprocesado\n",
    "df.to_csv('dataset_preprocesado.csv', index=False)"
   ]
  },
  {
   "cell_type": "code",
   "execution_count": null,
   "id": "a92bd5c7",
   "metadata": {},
   "outputs": [],
   "source": []
  }
 ],
 "metadata": {
  "kernelspec": {
   "display_name": "Python 3 (ipykernel)",
   "language": "python",
   "name": "python3"
  },
  "language_info": {
   "codemirror_mode": {
    "name": "ipython",
    "version": 3
   },
   "file_extension": ".py",
   "mimetype": "text/x-python",
   "name": "python",
   "nbconvert_exporter": "python",
   "pygments_lexer": "ipython3",
   "version": "3.10.9"
  }
 },
 "nbformat": 4,
 "nbformat_minor": 5
}
